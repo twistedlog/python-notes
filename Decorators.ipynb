{
 "cells": [
  {
   "cell_type": "code",
   "execution_count": 42,
   "metadata": {},
   "outputs": [],
   "source": [
    "from functools import wraps\n",
    "\n",
    "def timeit(func):\n",
    "    @wraps(func)\n",
    "    def wrapper(*args, **kwargs):\n",
    "        import datetime\n",
    "        before = datetime.datetime.now()\n",
    "        result = func(*args, **kwargs)\n",
    "        after = datetime.datetime.now()\n",
    "        print(\"Elapsed Time: {0}\".format(after-before))\n",
    "        return result\n",
    "    return wrapper"
   ]
  },
  {
   "cell_type": "code",
   "execution_count": 43,
   "metadata": {},
   "outputs": [],
   "source": [
    "@timeit\n",
    "def sum_nums(num):\n",
    "    s = 0\n",
    "    for i in range(num):\n",
    "        s += i\n",
    "    return s"
   ]
  },
  {
   "cell_type": "code",
   "execution_count": 44,
   "metadata": {},
   "outputs": [
    {
     "name": "stdout",
     "output_type": "stream",
     "text": [
      "Elapsed Time: 0:00:00.072069\n"
     ]
    }
   ],
   "source": [
    "s = sum_nums(10**6)"
   ]
  },
  {
   "cell_type": "code",
   "execution_count": 45,
   "metadata": {},
   "outputs": [],
   "source": [
    "def time_all_classes(Cls):\n",
    "    class NewCls(object):\n",
    "        foo = None\n",
    "        def __init__(self, *args, **kwargs):\n",
    "            self.instance = Cls(*args, **kwargs)\n",
    "        \n",
    "        def __getattribute__(self, s):\n",
    "            try:\n",
    "                x = super(NewCls, self).__getattribute__(s)\n",
    "            except AttributeError:\n",
    "                pass\n",
    "            else:\n",
    "                return x\n",
    "            x = self.instance.__getattribute__(s)\n",
    "            print(type(self.__init__))\n",
    "            print(type(x))\n",
    "            \n",
    "            if type(x) == type(self.__init__):\n",
    "                return timeit(x)\n",
    "            else:\n",
    "                return x\n",
    "    return NewCls\n",
    "            "
   ]
  },
  {
   "cell_type": "code",
   "execution_count": 65,
   "metadata": {},
   "outputs": [],
   "source": [
    "from functools import total_ordering\n",
    "\n",
    "@time_all_classes\n",
    "@total_ordering\n",
    "class List(object):\n",
    "    def __init__(self, size):\n",
    "        self.size = size\n",
    "        self._list = []\n",
    "        \n",
    "    def append(self, ele):\n",
    "        self._list.append(ele)\n",
    "    \n",
    "    @classmethod\n",
    "    def max_size(cls):\n",
    "        return 100\n",
    "    \n",
    "    def __lt__(self, other):\n",
    "        return self.size < other.size"
   ]
  },
  {
   "cell_type": "code",
   "execution_count": 66,
   "metadata": {},
   "outputs": [
    {
     "name": "stdout",
     "output_type": "stream",
     "text": [
      "<class 'method'>\n",
      "<class 'method'>\n",
      "Elapsed Time: 0:00:00.000006\n",
      "<class 'method'>\n",
      "<class 'method'>\n",
      "Elapsed Time: 0:00:00.000003\n",
      "<class 'method'>\n",
      "<class 'method'>\n",
      "Elapsed Time: 0:00:00.000005\n",
      "<class 'method'>\n",
      "<class 'method'>\n",
      "Elapsed Time: 0:00:00.000003\n",
      "<class 'method'>\n",
      "<class 'method'>\n",
      "Elapsed Time: 0:00:00.000005\n",
      "<class 'method'>\n",
      "<class 'method'>\n",
      "Elapsed Time: 0:00:00.000005\n"
     ]
    },
    {
     "ename": "TypeError",
     "evalue": "'>' not supported between instances of 'NewCls' and 'NewCls'",
     "output_type": "error",
     "traceback": [
      "\u001b[0;31m---------------------------------------\u001b[0m",
      "\u001b[0;31mTypeError\u001b[0mTraceback (most recent call last)",
      "\u001b[0;32m<ipython-input-66-c25afef17b9d>\u001b[0m in \u001b[0;36m<module>\u001b[0;34m()\u001b[0m\n\u001b[1;32m      8\u001b[0m \u001b[0mstr\u001b[0m\u001b[0;34m(\u001b[0m\u001b[0ml\u001b[0m\u001b[0;34m)\u001b[0m\u001b[0;34m\u001b[0m\u001b[0m\n\u001b[1;32m      9\u001b[0m \u001b[0mp\u001b[0m \u001b[0;34m=\u001b[0m \u001b[0mList\u001b[0m\u001b[0;34m(\u001b[0m\u001b[0;36m20\u001b[0m\u001b[0;34m)\u001b[0m\u001b[0;34m\u001b[0m\u001b[0m\n\u001b[0;32m---> 10\u001b[0;31m \u001b[0mp\u001b[0m \u001b[0;34m>\u001b[0m \u001b[0ml\u001b[0m\u001b[0;34m\u001b[0m\u001b[0m\n\u001b[0m",
      "\u001b[0;31mTypeError\u001b[0m: '>' not supported between instances of 'NewCls' and 'NewCls'"
     ]
    }
   ],
   "source": [
    "l = List(10)\n",
    "l.append(10)\n",
    "l.max_size()\n",
    "l.append(20)\n",
    "l.append(10000)\n",
    "l.append(\"fojoiehfoi\")\n",
    "l.append([\"foo\", \"bar\"]*1000)\n",
    "str(l)\n",
    "p = List(20)\n",
    "p > l"
   ]
  },
  {
   "cell_type": "code",
   "execution_count": null,
   "metadata": {},
   "outputs": [],
   "source": []
  }
 ],
 "metadata": {
  "kernelspec": {
   "display_name": "Python 3",
   "language": "python",
   "name": "python3"
  },
  "language_info": {
   "codemirror_mode": {
    "name": "ipython",
    "version": 3
   },
   "file_extension": ".py",
   "mimetype": "text/x-python",
   "name": "python",
   "nbconvert_exporter": "python",
   "pygments_lexer": "ipython3",
   "version": "3.6.5"
  }
 },
 "nbformat": 4,
 "nbformat_minor": 2
}
